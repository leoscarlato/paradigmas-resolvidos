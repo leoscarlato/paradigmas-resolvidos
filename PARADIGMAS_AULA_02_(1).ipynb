{
  "nbformat": 4,
  "nbformat_minor": 0,
  "metadata": {
    "colab": {
      "provenance": [],
      "include_colab_link": true
    },
    "kernelspec": {
      "name": "python3",
      "display_name": "Python 3"
    }
  },
  "cells": [
    {
      "cell_type": "markdown",
      "metadata": {
        "id": "view-in-github",
        "colab_type": "text"
      },
      "source": [
        "<a href=\"https://colab.research.google.com/github/leoscarlato/paradigmas-resolvidos/blob/main/PARADIGMAS_AULA_02_(1).ipynb\" target=\"_parent\"><img src=\"https://colab.research.google.com/assets/colab-badge.svg\" alt=\"Open In Colab\"/></a>"
      ]
    },
    {
      "cell_type": "markdown",
      "metadata": {
        "id": "EwxHf3E81Qyz"
      },
      "source": [
        "**LINGUAGENS E PARADIGMAS - AULA 02**\n",
        "\n",
        "***Prof. Luciano Silva***\n",
        "\n",
        "**Objetivos da aula:**\n",
        "*   revisar os passos de compilação\n",
        "*   apresentar o conceito de analisador léxico\n",
        "*   implementar analisadores léxicos em Python, usando o módulo rply\n",
        "\n",
        "\n",
        "\n"
      ]
    },
    {
      "cell_type": "markdown",
      "metadata": {
        "id": "bk9th_uMzOVk"
      },
      "source": [
        "**FASES DO PROCESSO DE COMPILAÇÃO**\n",
        "\n",
        "As diversas fases do processo de compilação são mostradas na imagem abaixo:\n",
        "\n",
        "<img src=\"https://www.researchgate.net/profile/Nuno-Oliveira-15/publication/266497079/figure/fig1/AS:295651775664128@1447500284302/Common-Compiler-Phases.png\"> <img>\n",
        "\n",
        "A partir de um programa-fonte (source), a primeira fase do processo de compilação é a quebra do programa em **tokens**, realizado através do **analisador léxico**.\n",
        "\n",
        "Uma vez identificados os tokens, o compilador precisa verificar se eles aparecem numa ordem determinada por uma **gramática**, processo que é realizado pelo **analisador sintático**. O produto do analisador sintático é a chamada **árvore de análise sintática** ou, abreviadamente, **árvore sintática**.\n",
        "\n",
        "A partir da árvore sintática, o compilador utiliza o **analisador semântico**. Este analisador percorre a árvore sintática para verificar, por exemplo, se há algum erro de tipo, se as funções são chamada com os argumentos corretos, dentre outras verificações.\n",
        "\n",
        "Uma vez que o programa não tenha erros sintáticos e semânticos, o compilador começa as tarefas de geração de código. O **gerador de código intermediário** é o primeiro deles e, para este gerador, a máquina-alvo do código é considerada como tendo um número infinito de registradores. Isto facilita bastante a geração de código inicial.\n",
        "\n",
        "A partir deste código intermediário, caímos em um problema de otimização: como transformar um código com infinitos registradores em um código que utilize um número finito de registradores. Esta é uma das tarefas do **otimizador de código**.\n",
        "\n",
        "Finalmente, uma vez otimizado o código, podemos gerar o código final para a máquina-alvo utilizando o **gerador de código**.\n"
      ]
    },
    {
      "cell_type": "markdown",
      "metadata": {
        "id": "wUepNFu-4Onu"
      },
      "source": [
        "**ANALISADOR LÉXICO**\n",
        "\n",
        "O **analisador léxico** é um módulo de compilador responsável por quebrar o programa a ser compilado em **tokens**. Um token é, essencilamente, uma 2-upla (valor,tipo). Por exemplo, o token (123,NUMBER) diz que a entrada 123 reconhecida é um número.\n",
        "\n",
        "A representação operacional de um analisador léxico é, essencialmente, um **autômato (de estados) finito**. Abaixo temos um exemplo de um analisador léxico para reconhecer números inteiros sem sinal.\n",
        "\n",
        "<img src=\"https://www.csee.umbc.edu/courses/undergraduate/CMSC331/fall17/park/homeworks/hw3/dfa.gif\"> <img>\n",
        "\n"
      ]
    },
    {
      "cell_type": "markdown",
      "metadata": {
        "id": "QGMxqj9y7vWS"
      },
      "source": [
        "**EXERCÍCIO RESOLVIDO**\n",
        "\n",
        "Queremos construir um analisador léxico para os símbolos terminais da gramática abaixo:\n",
        "\n",
        "\\<expression\\> ::= NUMBER\n",
        "\n",
        "               | \\<expression\\> \"+\" \\<expression\\>\n",
        "\n",
        "               | \\<expression\\> \"-\" \\<expression\\>\n",
        "\n",
        "               | \\<expression\\> \"*\" \\<expression\\>\n",
        "\n",
        "               | \\<expression\\> \"/\" \\<expression\\>\n",
        "\n",
        "               | \"(\" <expression> \")\""
      ]
    },
    {
      "cell_type": "markdown",
      "metadata": {
        "id": "vdlT1XbX8PFb"
      },
      "source": [
        "O primeiro passo é instalar o rply, um módulo para construir analisadores.\n",
        "\n"
      ]
    },
    {
      "cell_type": "code",
      "metadata": {
        "id": "CbWUx55j1tLM",
        "outputId": "2cf491ad-d02f-403f-de71-1210edf64d5d",
        "colab": {
          "base_uri": "https://localhost:8080/"
        }
      },
      "source": [
        "!pip install rply"
      ],
      "execution_count": 1,
      "outputs": [
        {
          "output_type": "stream",
          "name": "stdout",
          "text": [
            "Collecting rply\n",
            "  Downloading rply-0.7.8-py2.py3-none-any.whl (16 kB)\n",
            "Requirement already satisfied: appdirs in /usr/local/lib/python3.10/dist-packages (from rply) (1.4.4)\n",
            "Installing collected packages: rply\n",
            "Successfully installed rply-0.7.8\n"
          ]
        }
      ]
    },
    {
      "cell_type": "markdown",
      "metadata": {
        "id": "qQEvnI9-9S-n"
      },
      "source": [
        "Toda a documentação do rply pode ser encontrada abaixo:\n",
        "\n",
        "<a href=\"https://rply.readthedocs.io/en/latest/\">Documentação RPLY </a>"
      ]
    },
    {
      "cell_type": "markdown",
      "metadata": {
        "id": "Mdp5ClkZ98Tw"
      },
      "source": [
        "O segundo passo é construir o analisador léxico:"
      ]
    },
    {
      "cell_type": "code",
      "metadata": {
        "id": "Rezf3OAt1P7_"
      },
      "source": [
        "from rply import LexerGenerator\n",
        "\n",
        "lg = LexerGenerator()\n",
        "\n",
        "lg.add('NUMBER', r'\\d+')\n",
        "lg.add('PLUS', r'\\+')\n",
        "lg.add('MINUS', r'-')\n",
        "lg.add('MUL', r'\\*')\n",
        "lg.add('DIV', r'/')\n",
        "lg.add('OPEN_PARENS', r'\\(')\n",
        "lg.add('CLOSE_PARENS', r'\\)')\n",
        "\n",
        "lg.ignore('\\s+')\n",
        "\n",
        "lexer = lg.build()"
      ],
      "execution_count": 2,
      "outputs": []
    },
    {
      "cell_type": "markdown",
      "metadata": {
        "id": "9gxpqmaf9khR"
      },
      "source": [
        "Observe que, associado a cada classe léxica, temos uma expressão regular associada. Esta expressão regular usa a facilidade RegEx do Python, cuja documentação pode ser enontrada abaixo:\n",
        "\n",
        "<a href=\"https://blog.geekhunter.com.br/python-regex/\"> Expressões Regulares em Python </a>\n",
        "\n",
        "Para usar somente o analisador léxico, podemos usar o código abaixo:"
      ]
    },
    {
      "cell_type": "code",
      "metadata": {
        "id": "8CrRKNZi9vMr",
        "outputId": "46278dfd-42f2-4520-b209-ff1f9183fee4",
        "colab": {
          "base_uri": "https://localhost:8080/"
        }
      },
      "source": [
        "for token in lexer.lex('1+1-1'):\n",
        "  print(token)"
      ],
      "execution_count": 3,
      "outputs": [
        {
          "output_type": "stream",
          "name": "stdout",
          "text": [
            "Token('NUMBER', '1')\n",
            "Token('PLUS', '+')\n",
            "Token('NUMBER', '1')\n",
            "Token('MINUS', '-')\n",
            "Token('NUMBER', '1')\n"
          ]
        }
      ]
    },
    {
      "cell_type": "markdown",
      "metadata": {
        "id": "PduMxWsU_Vy7"
      },
      "source": [
        "**EXERCÍCIO PROPOSTO**\n",
        "\n",
        "Modifique o analisador léxico para reconhecer números inteiros com ou sem  sinal. Por exemplo: +6, -58, 100.\n"
      ]
    },
    {
      "cell_type": "code",
      "metadata": {
        "id": "9SMh74pg_okJ"
      },
      "source": [
        "#digite sua solução aqui\n",
        "\n",
        "lg = LexerGenerator()\n",
        "\n",
        "lg.add('NUMBER', r'(\\+|-)?\\d+')\n",
        "lg.add('PLUS', r'\\+')\n",
        "lg.add('MINUS', r'-')\n",
        "lg.add('MUL', r'\\*')\n",
        "lg.add('DIV', r'/')\n",
        "lg.add('OPEN_PARENS', r'\\(')\n",
        "lg.add('CLOSE_PARENS', r'\\)')\n",
        "\n",
        "lg.ignore('\\s+')\n",
        "\n",
        "lexer = lg.build()"
      ],
      "execution_count": 4,
      "outputs": []
    },
    {
      "cell_type": "markdown",
      "source": [],
      "metadata": {
        "id": "_xab1G-bWdwZ"
      }
    },
    {
      "cell_type": "code",
      "source": [
        "for token in lexer.lex('100+-1-1'):\n",
        "  print(token)"
      ],
      "metadata": {
        "id": "w2jpa8RfTD9p",
        "outputId": "6678522e-27c1-4fcd-be19-ce13808b8f02",
        "colab": {
          "base_uri": "https://localhost:8080/"
        }
      },
      "execution_count": 5,
      "outputs": [
        {
          "output_type": "stream",
          "name": "stdout",
          "text": [
            "Token('NUMBER', '100')\n",
            "Token('PLUS', '+')\n",
            "Token('NUMBER', '-1')\n",
            "Token('NUMBER', '-1')\n"
          ]
        }
      ]
    },
    {
      "cell_type": "markdown",
      "metadata": {
        "id": "Q2YCDTUv_yJT"
      },
      "source": [
        "**EXERCÍCIO PROPOSTO**\n",
        "\n",
        "Modifique o analisador léxico para reconhecer números em ponto flutuante com ou sem  sinal. Por exemplo: +6.56, -6.089678, 234.475."
      ]
    },
    {
      "cell_type": "code",
      "metadata": {
        "id": "OohbNOEg_90x"
      },
      "source": [
        "#digite sua solução aqui\n",
        "\n",
        "lg = LexerGenerator()\n",
        "\n",
        "lg.add('NUMBER', r'(\\+|-)?\\d+(\\.\\d+)?')   # aceita número negativo e positivo, e aceita número float (com .)\n",
        "lg.add('PLUS', r'\\+')\n",
        "lg.add('MINUS', r'-')\n",
        "lg.add('MUL', r'\\*')\n",
        "lg.add('DIV', r'/')\n",
        "lg.add('OPEN_PARENS', r'\\(')\n",
        "lg.add('CLOSE_PARENS', r'\\)')\n",
        "\n",
        "lg.ignore('\\s+')\n",
        "\n",
        "lexer = lg.build()"
      ],
      "execution_count": 6,
      "outputs": []
    },
    {
      "cell_type": "code",
      "source": [
        "for token in lexer.lex('4.5+3-1'):\n",
        "  print(token)"
      ],
      "metadata": {
        "id": "MfYOWGM8T8UN",
        "outputId": "d2499262-696e-4886-8093-7344544f6700",
        "colab": {
          "base_uri": "https://localhost:8080/"
        }
      },
      "execution_count": 7,
      "outputs": [
        {
          "output_type": "stream",
          "name": "stdout",
          "text": [
            "Token('NUMBER', '4.5')\n",
            "Token('NUMBER', '+3')\n",
            "Token('NUMBER', '-1')\n"
          ]
        }
      ]
    },
    {
      "cell_type": "markdown",
      "metadata": {
        "id": "rKWWWx3aAK30"
      },
      "source": [
        "**EXERCÍCIO PROPOSTO**\n",
        "\n",
        "Considere a nossa gramática inicial com a modificação abaixo. Nesta alteração, id é o nome de uma variável que começa com letra (minúscula ou maiúscula) e, depois disto, pode conter letras ou números. Implemente e teste um analisador  léxico para esta alteração.\n",
        "\n",
        "\\<atribuicao\\> ::= **id** **\"=\"** \\<expression\\> **\";\"**\n",
        "\n",
        "\\<expression\\> ::= **NUMBER**\n",
        "\n",
        "               | \\<expression\\> \"+\" \\<expression\\>\n",
        "\n",
        "               | \\<expression\\> \"-\" \\<expression\\>\n",
        "\n",
        "               | \\<expression\\> \"*\" \\<expression\\>\n",
        "\n",
        "               | \\<expression\\> \"/\"\\<expression\\>\n",
        "\n",
        "               | \"(\" <expression> \")\""
      ]
    },
    {
      "cell_type": "code",
      "metadata": {
        "id": "B5twoUAaCDr9"
      },
      "source": [
        "#digite sua solução aqui\n",
        "lg = LexerGenerator()\n",
        "\n",
        "lg.add('ID', r'[a-zA-Z][0-9]*')\n",
        "lg.add('EQUALS', r'=')\n",
        "lg.add('NUMBER', r'(\\+|-)?\\d+(\\.\\d+)?')\n",
        "lg.add('PLUS', r'\\+')\n",
        "lg.add('MINUS', r'-')\n",
        "lg.add('MUL', r'\\*')\n",
        "lg.add('DIV', r'/')\n",
        "lg.add('OPEN_PARENS', r'\\(')\n",
        "lg.add('CLOSE_PARENS', r'\\)')\n",
        "lg.add('DELIM', r';')\n",
        "\n",
        "lg.ignore('\\s+')\n",
        "\n",
        "lexer = lg.build()"
      ],
      "execution_count": 8,
      "outputs": []
    },
    {
      "cell_type": "code",
      "source": [
        "for token in lexer.lex('x1=2+3*(4/5)'):\n",
        "  print(token)"
      ],
      "metadata": {
        "id": "onfTlksoU82c",
        "outputId": "6e1a7122-e327-4561-afc1-33f89d21fe73",
        "colab": {
          "base_uri": "https://localhost:8080/"
        }
      },
      "execution_count": 9,
      "outputs": [
        {
          "output_type": "stream",
          "name": "stdout",
          "text": [
            "Token('ID', 'x1')\n",
            "Token('EQUALS', '=')\n",
            "Token('NUMBER', '2')\n",
            "Token('NUMBER', '+3')\n",
            "Token('MUL', '*')\n",
            "Token('OPEN_PARENS', '(')\n",
            "Token('NUMBER', '4')\n",
            "Token('DIV', '/')\n",
            "Token('NUMBER', '5')\n",
            "Token('CLOSE_PARENS', ')')\n"
          ]
        }
      ]
    },
    {
      "cell_type": "code",
      "source": [],
      "metadata": {
        "id": "yXvEi7YJVQ-p"
      },
      "execution_count": 9,
      "outputs": []
    }
  ]
}