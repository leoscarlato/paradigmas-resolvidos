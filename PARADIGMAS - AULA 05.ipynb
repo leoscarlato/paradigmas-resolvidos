{
  "nbformat": 4,
  "nbformat_minor": 0,
  "metadata": {
    "colab": {
      "name": "LINGUAGENS E PARADIGMAS - AULA 05.ipynb",
      "provenance": [],
      "include_colab_link": true
    },
    "kernelspec": {
      "name": "python3",
      "display_name": "Python 3"
    }
  },
  "cells": [
    {
      "cell_type": "markdown",
      "metadata": {
        "id": "view-in-github",
        "colab_type": "text"
      },
      "source": [
        "<a href=\"https://colab.research.google.com/github/leoscarlato/paradigmas-resolvidos/blob/main/PARADIGMAS%20-%20AULA%2005.ipynb\" target=\"_parent\"><img src=\"https://colab.research.google.com/assets/colab-badge.svg\" alt=\"Open In Colab\"/></a>"
      ]
    },
    {
      "cell_type": "markdown",
      "metadata": {
        "id": "EwxHf3E81Qyz"
      },
      "source": [
        "**LINGUAGENS E PARADIGMAS - AULA 05**\n",
        "\n",
        "**Prof. Luciano Silva**\n",
        "\n",
        "**OBJETIVOS DA AULA:**\n",
        "\n",
        "*   Iniciar o estudo do analisador semântico\n",
        "*   Entender o processo de decoração da árvore sintática\n",
        "*   Aplicar o design pattern Visitor para realizar o processo de decoração da árvore sintática\n"
      ]
    },
    {
      "cell_type": "code",
      "metadata": {
        "id": "CbWUx55j1tLM",
        "outputId": "3b3fed21-c51f-49c4-f37c-601aad901fb9",
        "colab": {
          "base_uri": "https://localhost:8080/"
        }
      },
      "source": [
        "!pip install rply"
      ],
      "execution_count": 1,
      "outputs": [
        {
          "output_type": "stream",
          "name": "stdout",
          "text": [
            "Collecting rply\n",
            "  Downloading rply-0.7.8-py2.py3-none-any.whl (16 kB)\n",
            "Requirement already satisfied: appdirs in /usr/local/lib/python3.10/dist-packages (from rply) (1.4.4)\n",
            "Installing collected packages: rply\n",
            "Successfully installed rply-0.7.8\n"
          ]
        }
      ]
    },
    {
      "cell_type": "markdown",
      "metadata": {
        "id": "-c5kPp0Y64TT"
      },
      "source": [
        "**ANALISADOR SEMÂNTICO**\n",
        "\n",
        "O análise semântica é o terceiro passo no processo de compilação e é realizada pelo **analisador semântico**.\n",
        "\n",
        "<img src=\"https://www.researchgate.net/profile/Nuno-Oliveira-15/publication/266497079/figure/fig1/AS:295651775664128@1447500284302/Common-Compiler-Phases.png\"> <img>\n",
        "\n",
        "O analisador semântico realiza diversas operações como, por exemplo, decoração da árvore sintática, verificação de tipos e verificação de chamadas de procedimentos e funções.\n",
        "\n"
      ]
    },
    {
      "cell_type": "markdown",
      "metadata": {
        "id": "IMtgDh_BAjLP"
      },
      "source": [
        "**DECORAÇÃO DA ÁRVORE SINTÁTICA**\n",
        "\n",
        "O objetivo da decoração da árvore sintática consiste em adicionar informações semânticas na árvore sintática (tipo, quantidade de parâmetros, contexto, etc) de forma a facilitar os passos seguintes da análise semântica.\n",
        "\n",
        "Por exemplo, para o processo de verificação de tipos, precisamos ter todos os nós da árvore sintática (relacionados com tipos) com os seu respectivos tipos decorados na árvore. Na chamada de um procedimento e função, precisamos saber se estamos usando o número correto de parâmetros e estamos usando seus tipos corretamente.\n",
        "\n",
        "Abaixo, temos um exemplo de erro semântico:\n",
        "\n",
        "**int x=1,y;**\n",
        "\n",
        "**string nome=\"maria\";**\n",
        "\n",
        "**y=x+nome;**\n",
        "\n",
        "Observe que não há erro sintático. Porém, ao tentarmos somar x(inteiro) com nome(string), teremos uma incompatibilidade de tipos na soma. Para tratar isto, fazemos o processo em três passos:\n",
        "\n",
        "(1) montamos uma **tabela de símbolos** com a declaração das variáveis:\n",
        "\n",
        "<table>\n",
        "<tr> <td> <b>id</b> </td> <td> <b>type</b> </td> </tr>\n",
        "<tr> <td> x </td> <td> int </td> </tr>\n",
        "<tr> <td> y </td> <td> int </td> </tr>\n",
        "<tr> <td> nome </td>  <td> string </td>  </tr>\n",
        "</table>\n",
        "\n",
        "(2) decoramos os nós da árvore relativos à expressão aritmética:\n",
        "\n",
        "**y<font color=\"red\">(int)</font>=x<font color=\"red\">(int)</font>+nome<font color=\"red\">(string)</font>;**\n",
        "\n",
        "(3) no operador de soma, verificamor que os operandos x<font color=\"red\">(int)</font> e nome<font color=\"red\">(string)</font> são incompatíveis.\n",
        "\n",
        "**Cada um destes passos é realizado por um Visitor.**\n"
      ]
    },
    {
      "cell_type": "markdown",
      "metadata": {
        "id": "WDogT1ytJrEt"
      },
      "source": [
        "**EXERCÍCIO**\n",
        "\n",
        "Abaixo, temos uma gramática com expressões aritméticas envolvendo números inteiro (type = int).\n",
        "\n",
        "![Captura de Tela 2023-08-30 às 10.51.57 PM.png](data:image/png;base64,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)"
      ]
    },
    {
      "cell_type": "markdown",
      "metadata": {
        "id": "ebS9YMF3My8n"
      },
      "source": [
        "Abaixo, temos a implementação do analisador léxico para esta gramática:"
      ]
    },
    {
      "cell_type": "code",
      "metadata": {
        "id": "AohGQ2yWKDli"
      },
      "source": [
        "from rply import LexerGenerator\n",
        "\n",
        "lg = LexerGenerator()\n",
        "\n",
        "lg.add('NUMBER', r'\\d+')\n",
        "lg.add('PLUS', r'\\+')\n",
        "lg.add('MINUS', r'-')\n",
        "lg.add('MUL', r'\\*')\n",
        "lg.add('DIV', r'/')\n",
        "lg.add('OPEN_PARENS', r'\\(')\n",
        "lg.add('CLOSE_PARENS', r'\\)')\n",
        "\n",
        "lg.ignore('\\s+')\n",
        "\n",
        "lexer = lg.build()"
      ],
      "execution_count": 2,
      "outputs": []
    },
    {
      "cell_type": "markdown",
      "metadata": {
        "id": "TkFwbLH8NCuj"
      },
      "source": [
        "A seguir, temos a implementação das classes dos nós da árvore sintática, já com o método accept para receber os visitors:"
      ]
    },
    {
      "cell_type": "code",
      "metadata": {
        "id": "RLcu5RuHDl6B"
      },
      "source": [
        "from rply.token import BaseBox\n",
        "\n",
        "class Expr(BaseBox):\n",
        "    def accept(self, visitor):\n",
        "        method_name = 'visit_{}'.format(self.__class__.__name__.lower())\n",
        "        visit = getattr(visitor, method_name)\n",
        "        return visit(self)\n",
        "\n",
        "class Number(Expr):\n",
        "    def __init__(self, value):\n",
        "        self.value = value\n",
        "\n",
        "\n",
        "class BinaryOp(Expr):\n",
        "    def __init__(self, left, right):\n",
        "        self.left = left\n",
        "        self.right = right\n",
        "\n",
        "class Add(BinaryOp):\n",
        "  pass\n",
        "\n",
        "\n",
        "class Sub(BinaryOp):\n",
        "  pass\n",
        "\n",
        "\n",
        "class Mul(BinaryOp):\n",
        "  pass\n",
        "\n",
        "\n",
        "class Div(BinaryOp):\n",
        "  pass\n",
        "\n"
      ],
      "execution_count": 3,
      "outputs": []
    },
    {
      "cell_type": "markdown",
      "metadata": {
        "id": "H0thJ3zMNmp8"
      },
      "source": [
        "A seguir, temos um visitor que percorre a árvore sintática e resolve a expressão contida nela:"
      ]
    },
    {
      "cell_type": "code",
      "metadata": {
        "id": "1wHqpJ_7NaPf"
      },
      "source": [
        "class Visitor(object):\n",
        "    pass\n",
        "\n",
        "\n",
        "class Eval(Visitor):\n",
        "    def visit_number(self, i):\n",
        "        return i.value\n",
        "\n",
        "    def visit_add(self, a):\n",
        "        return a.left.accept(self) + a.right.accept(self)\n",
        "\n",
        "    def visit_sub(self, a):\n",
        "        return a.left.accept(self) - a.right.accept(self)\n",
        "\n",
        "    def visit_mul(self, a):\n",
        "        return a.left.accept(self) * a.right.accept(self)\n",
        "\n",
        "    def visit_div(self, a):\n",
        "        return a.left.accept(self) / a.right.accept(self)\n"
      ],
      "execution_count": 4,
      "outputs": []
    },
    {
      "cell_type": "markdown",
      "metadata": {
        "id": "G_JyO9SgOPbC"
      },
      "source": [
        "Finalmente, temos o analisador sintático:"
      ]
    },
    {
      "cell_type": "code",
      "metadata": {
        "id": "2MB_wWwWEGcX"
      },
      "source": [
        "from rply import ParserGenerator\n",
        "\n",
        "pg = ParserGenerator(\n",
        "    # A list of all token names, accepted by the lexer.\n",
        "    ['NUMBER', 'OPEN_PARENS', 'CLOSE_PARENS',\n",
        "     'PLUS', 'MINUS', 'MUL', 'DIV'\n",
        "    ],\n",
        "    # A list of precedence rules with ascending precedence, to\n",
        "    # disambiguate ambiguous production rules.\n",
        "    precedence=[\n",
        "        ('left', ['PLUS', 'MINUS']),\n",
        "        ('left', ['MUL', 'DIV'])\n",
        "    ]\n",
        ")\n",
        "\n",
        "@pg.production('expression : NUMBER')\n",
        "def expression_number(p):\n",
        "    # p is a list of the pieces matched by the right hand side of the\n",
        "    # rule\n",
        "    return Number(int(p[0].getstr()))\n",
        "\n",
        "@pg.production('expression : OPEN_PARENS expression CLOSE_PARENS')\n",
        "def expression_parens(p):\n",
        "    return p[1]\n",
        "\n",
        "@pg.production('expression : expression PLUS expression')\n",
        "@pg.production('expression : expression MINUS expression')\n",
        "@pg.production('expression : expression MUL expression')\n",
        "@pg.production('expression : expression DIV expression')\n",
        "def expression_binop(p):\n",
        "    left = p[0]\n",
        "    right = p[2]\n",
        "    if p[1].gettokentype() == 'PLUS':\n",
        "        return Add(left, right)\n",
        "    elif p[1].gettokentype() == 'MINUS':\n",
        "        return Sub(left, right)\n",
        "    elif p[1].gettokentype() == 'MUL':\n",
        "        return Mul(left, right)\n",
        "    elif p[1].gettokentype() == 'DIV':\n",
        "        return Div(left, right)\n",
        "    else:\n",
        "        raise AssertionError('Oops, this should not be possible!')\n",
        "\n",
        "parser = pg.build()"
      ],
      "execution_count": 5,
      "outputs": []
    },
    {
      "cell_type": "markdown",
      "metadata": {
        "id": "rIlF8kYLOT7R"
      },
      "source": [
        "Para testar o visitor, fazemos a análise sintática, geramos a árvore sintática e, finalmente, passamos o visitor de resolução a ela:"
      ]
    },
    {
      "cell_type": "code",
      "metadata": {
        "id": "f9H91s7fFWdB",
        "outputId": "576b1783-5366-4251-a164-ef230a922c42",
        "colab": {
          "base_uri": "https://localhost:8080/"
        }
      },
      "source": [
        "arvore=parser.parse(lexer.lex('1+2*5'))\n",
        "print(arvore.accept(Eval()))"
      ],
      "execution_count": 6,
      "outputs": [
        {
          "output_type": "stream",
          "name": "stdout",
          "text": [
            "11\n"
          ]
        }
      ]
    },
    {
      "cell_type": "markdown",
      "metadata": {
        "id": "abAOVnATPDC4"
      },
      "source": [
        "Implemente e teste um visitor para decorar esta árvore sintática, utilizando o seguinte conjunto de regras de tipo:\n",
        "\n",
        "NUMBER --> int\n",
        "\n",
        "int + int --> int\n",
        "\n",
        "int - int --> int\n",
        "\n",
        "int * int --> int\n",
        "\n",
        "int / int --> int\n"
      ]
    },
    {
      "cell_type": "code",
      "metadata": {
        "id": "VCdkh8doWFmZ"
      },
      "source": [
        "class Decorator(Visitor):\n",
        "    def visit_number(self, i):\n",
        "        i.decor_type=\"int\"\n",
        "\n",
        "\n",
        "\n",
        "    def visit_add(self, a):\n",
        "        a.left.accept(self)\n",
        "        a.right.accept(self)\n",
        "        if a.left.decor_type==\"int\" and a.right.decor_type==\"int\":\n",
        "          a.decor_type=\"int\"\n",
        "\n",
        "\n",
        "    def visit_sub(self, a):\n",
        "        a.left.accept(self)\n",
        "        a.right.accept(self)\n",
        "        if a.left.decor_type==\"int\" and a.right.decor_type==\"int\":\n",
        "          a.decor_type=\"int\"\n",
        "\n",
        "    def visit_mul(self, a):\n",
        "        a.left.accept(self)\n",
        "        a.right.accept(self)\n",
        "        if a.left.decor_type==\"int\" and a.right.decor_type==\"int\":\n",
        "          a.decor_type=\"int\"\n",
        "\n",
        "    def visit_add(self, a):\n",
        "        a.left.accept(self)\n",
        "        a.right.accept(self)\n",
        "        if a.left.decor_type==\"int\" and a.right.decor_type==\"int\":\n",
        "          a.decor_type=\"int\""
      ],
      "execution_count": 7,
      "outputs": []
    },
    {
      "cell_type": "code",
      "metadata": {
        "id": "OSlGNIbJgghj",
        "outputId": "503231f9-99d6-487c-bd7f-cac6e4e3818d",
        "colab": {
          "base_uri": "https://localhost:8080/"
        }
      },
      "source": [
        "arvore.accept(Decorator())\n",
        "print(arvore.decor_type)\n"
      ],
      "execution_count": 8,
      "outputs": [
        {
          "output_type": "stream",
          "name": "stdout",
          "text": [
            "int\n"
          ]
        }
      ]
    },
    {
      "cell_type": "markdown",
      "metadata": {
        "id": "cVnS1-NfbcWa"
      },
      "source": [
        "**EXERCÍCIO**\n",
        "\n",
        "A gramática abaixo aumenta a gramática vista em aula e acrescenta declaração de variáveis com os tipos int e string, assim como um comando de atribuição.\n",
        "\n",
        "(1) implemente um visitor para montar a tabela de símbolos\n",
        "\n",
        "(2) implemente um visitor para decorar a árvore sintática. Suponha que NUMBER tenha o tipo int.\n"
      ]
    },
    {
      "cell_type": "markdown",
      "source": [
        "![Captura de Tela 2023-08-31 às 12.07.50 AM.png](data:image/png;base64,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)"
      ],
      "metadata": {
        "id": "PQOCuwOQsJmp"
      }
    },
    {
      "cell_type": "code",
      "metadata": {
        "id": "TAoYMBUSd9R4"
      },
      "source": [
        "#ANALISADOR LÉXICO\n",
        "\n",
        "from rply import LexerGenerator\n",
        "\n",
        "lg = LexerGenerator()\n",
        "\n",
        "lg.add('NUMBER', r'\\d+')\n",
        "lg.add('PLUS', r'\\+')\n",
        "lg.add('MINUS', r'-')\n",
        "lg.add('MUL', r'\\*')\n",
        "lg.add('DIV', r'/')\n",
        "lg.add('OPEN_PARENS', r'\\(')\n",
        "lg.add('CLOSE_PARENS', r'\\)')\n",
        "\n",
        "lg.add('INT', r'int')\n",
        "lg.add('STRING', r'string')\n",
        "lg.add('ID', r'[a-zA-Z][a-zA-Z0-9]*')\n",
        "lg.add('EQUALS', r'=')\n",
        "lg.add('SEMICOL', r';')\n",
        "\n",
        "lg.ignore('\\s+')\n",
        "\n",
        "lexer = lg.build()"
      ],
      "execution_count": 69,
      "outputs": []
    },
    {
      "cell_type": "code",
      "source": [
        "#ÁRVORE SINTÁTICA PREPARADA PARA RECEBER VISITORS\n",
        "\n",
        "from rply.token import BaseBox\n",
        "\n",
        "class Prog(BaseBox):\n",
        "    def __init__(self, decls,stmts):\n",
        "        self.decls = decls\n",
        "        self.stmts = stmts\n",
        "\n",
        "    def accept(self, visitor):\n",
        "        visitor.visit_prog(self)\n",
        "\n",
        "class VarDecls(BaseBox):\n",
        "    def __init__(self, decl,decls):\n",
        "        self.decl = decl\n",
        "        self.decls = decls\n",
        "\n",
        "    def accept(self, visitor):\n",
        "        visitor.visit_vardecls(self)\n",
        "\n",
        "class VarDecl(BaseBox):\n",
        "    def __init__(self, id,tp):\n",
        "        self.id = id\n",
        "        self.tp = tp\n",
        "\n",
        "\n",
        "    def accept(self, visitor):\n",
        "        visitor.visit_vardecl(self)\n",
        "\n",
        "class Statements(BaseBox):\n",
        "    def __init__(self, stmt,stmts):\n",
        "        self.stmt = stmt\n",
        "        self.stmts = stmts\n",
        "\n",
        "    def accept(self, visitor):\n",
        "        visitor.visit_statements(self)\n",
        "\n",
        "class Statement(BaseBox):\n",
        "    def __init__(self,atrib):\n",
        "        self.atrib = atrib\n",
        "\n",
        "    def accept(self, visitor):\n",
        "        visitor.visit_statement(self)\n",
        "\n",
        "class Atrib(BaseBox):\n",
        "    def __init__(self, id,expr):\n",
        "        self.id = id\n",
        "        self.expr = expr\n",
        "\n",
        "    def accept(self, visitor):\n",
        "        visitor.visit_atrib(self)\n",
        "\n",
        "class Expr(BaseBox):\n",
        "    def accept(self, visitor):\n",
        "        method_name = 'visit_{}'.format(self.__class__.__name__.lower())\n",
        "        visit = getattr(visitor, method_name)\n",
        "        visit(self)\n",
        "\n",
        "class Id(Expr):\n",
        "    def __init__(self, value):\n",
        "        self.value = value\n",
        "\n",
        "class Number(Expr):\n",
        "    def __init__(self, value):\n",
        "        self.value = value\n",
        "\n",
        "\n",
        "class BinaryOp(Expr):\n",
        "    def __init__(self, left, right):\n",
        "        self.left = left\n",
        "        self.right = right\n",
        "\n",
        "class Add(BinaryOp):\n",
        "  pass\n",
        "\n",
        "\n",
        "class Sub(BinaryOp):\n",
        "  pass\n",
        "\n",
        "\n",
        "class Mul(BinaryOp):\n",
        "  pass\n",
        "\n",
        "\n",
        "class Div(BinaryOp):\n",
        "  pass"
      ],
      "metadata": {
        "id": "UI-YH3gv_I1s"
      },
      "execution_count": 75,
      "outputs": []
    },
    {
      "cell_type": "code",
      "source": [
        "#ANALISADOR SINTÁTICO\n",
        "\n",
        "from rply import ParserGenerator\n",
        "\n",
        "pg = ParserGenerator(\n",
        "    # A list of all token names, accepted by the lexer.\n",
        "    ['NUMBER', 'OPEN_PARENS', 'CLOSE_PARENS',\n",
        "     'PLUS', 'MINUS', 'MUL', 'DIV', 'INT', 'STRING', 'ID','SEMICOL',\n",
        "     'EQUALS'\n",
        "    ],\n",
        "    # A list of precedence rules with ascending precedence, to\n",
        "    # disambiguate ambiguous production rules.\n",
        "    precedence=[\n",
        "        ('left', ['PLUS', 'MINUS']),\n",
        "        ('left', ['MUL', 'DIV'])\n",
        "    ]\n",
        ")\n",
        "\n",
        "@pg.production('prog : vardecls statements')\n",
        "def prog(p):\n",
        "    return Prog(p[0],p[1])\n",
        "\n",
        "@pg.production('vardecls : vardecl')\n",
        "def vardecls(p):\n",
        "    return VarDecls(p[0],None)\n",
        "\n",
        "@pg.production('vardecls : vardecl vardecls')\n",
        "def vardecls(p):\n",
        "    return VarDecls(p[0],p[1])\n",
        "\n",
        "@pg.production('vardecl : STRING ID SEMICOL')\n",
        "def vardecl_string(p):\n",
        "    return VarDecl(p[1].getstr(), \"string\")\n",
        "\n",
        "@pg.production('vardecl : INT ID SEMICOL')\n",
        "def vardecl_int(p):\n",
        "    return VarDecl(p[1].getstr(), \"int\")\n",
        "\n",
        "@pg.production('statements : statement')\n",
        "def statements_statement(p):\n",
        "    return Statements(p[0],None)\n",
        "\n",
        "@pg.production('statements : statement statements')\n",
        "def statement_statements(p):\n",
        "    return Statements(p[0],p[1])\n",
        "\n",
        "@pg.production('statement : atrib')\n",
        "def statement_atrib(p):\n",
        "    return Statement(p[0])\n",
        "\n",
        "@pg.production('atrib : ID EQUALS expression SEMICOL')\n",
        "def atrib(p):\n",
        "    return Atrib(p[0].getstr(),p[2])\n",
        "\n",
        "\n",
        "@pg.production('expression : ID')\n",
        "def expression_id(p):\n",
        "    return Id(p[0].getstr())\n",
        "\n",
        "@pg.production('expression : NUMBER')\n",
        "def expression_number(p):\n",
        "    return Number(int(p[0].getstr()))\n",
        "\n",
        "@pg.production('expression : OPEN_PARENS expression CLOSE_PARENS')\n",
        "def expression_parens(p):\n",
        "    return p[1]\n",
        "\n",
        "@pg.production('expression : expression PLUS expression')\n",
        "@pg.production('expression : expression MINUS expression')\n",
        "@pg.production('expression : expression MUL expression')\n",
        "@pg.production('expression : expression DIV expression')\n",
        "def expression_binop(p):\n",
        "    left = p[0]\n",
        "    right = p[2]\n",
        "    if p[1].gettokentype() == 'PLUS':\n",
        "        return Add(left, right)\n",
        "    elif p[1].gettokentype() == 'MINUS':\n",
        "        return Sub(left, right)\n",
        "    elif p[1].gettokentype() == 'MUL':\n",
        "        return Mul(left, right)\n",
        "    elif p[1].gettokentype() == 'DIV':\n",
        "        return Div(left, right)\n",
        "    else:\n",
        "        raise AssertionError('Oops, this should not be possible!')\n",
        "\n",
        "parser = pg.build()"
      ],
      "metadata": {
        "id": "cyQl4HDaBBQE"
      },
      "execution_count": 76,
      "outputs": []
    },
    {
      "cell_type": "code",
      "source": [
        "arvore=parser.parse(lexer.lex('int x;int y;int z;z=x+y;'))"
      ],
      "metadata": {
        "id": "ay57mOkQDXdf"
      },
      "execution_count": 77,
      "outputs": []
    },
    {
      "cell_type": "code",
      "source": [
        "ST={}  #TABELA DE SÍMBOLOS É UM DICIONÁRIO (ID, TIPO)\n",
        "\n",
        "class Visitor(object):\n",
        "  pass\n",
        "\n",
        "class SymbolTable(Visitor):\n",
        "    def visit_prog(self, prog):\n",
        "        prog.decls.accept(self)\n",
        "\n",
        "    def visit_vardecls(self, d):\n",
        "        d.decl.accept(self)\n",
        "        if d.decls!=None:\n",
        "          d.decls.accept(self)\n",
        "\n",
        "    def visit_vardecl(self, d):\n",
        "        ST[d.id]=d.tp"
      ],
      "metadata": {
        "id": "XIasEGQwDZvd"
      },
      "execution_count": 78,
      "outputs": []
    },
    {
      "cell_type": "code",
      "source": [
        "arvore.accept(SymbolTable())\n",
        "for id, tp in ST.items():\n",
        "  print(id, tp)"
      ],
      "metadata": {
        "id": "NSfjPyZSGesf",
        "outputId": "a4169915-1cd0-496f-de58-e52860e72151",
        "colab": {
          "base_uri": "https://localhost:8080/"
        }
      },
      "execution_count": 79,
      "outputs": [
        {
          "output_type": "stream",
          "name": "stdout",
          "text": [
            "x int\n",
            "y int\n",
            "z int\n"
          ]
        }
      ]
    },
    {
      "cell_type": "code",
      "source": [
        "# VISITOR - DECORATOR\n",
        "\n",
        "class Decorator(Visitor):\n",
        "\n",
        "    def visit_prog(self, i):\n",
        "        i.stmts.accept(self)\n",
        "\n",
        "    def visit_statements(self, d):\n",
        "        d.stmt.accept(self)\n",
        "        if d.stmts!=None:\n",
        "          d.stmts.accept(self)\n",
        "\n",
        "    def visit_statement(self, d):\n",
        "        d.atrib.accept(self)\n",
        "\n",
        "    def visit_atrib(self, i):\n",
        "        if i.id in ST:\n",
        "          i.id_decor_type=ST[i.id]\n",
        "        else:\n",
        "          raise AssertionError('id not declared')\n",
        "        i.expr.accept(self)\n",
        "        i.expr_decor_type=i.expr.decor_type\n",
        "\n",
        "    def visit_id(self, i):\n",
        "        if i.value in ST:\n",
        "          i.decor_type=ST[i.value]\n",
        "        else:\n",
        "          raise AssertionError('id not declared')\n",
        "\n",
        "\n",
        "    def visit_number(self, i):\n",
        "        i.decor_type=\"int\"\n",
        "\n",
        "\n",
        "    def visit_add(self, a):\n",
        "        a.left.accept(self)\n",
        "        a.right.accept(self)\n",
        "        if a.left.decor_type==\"int\" and a.right.decor_type==\"int\":\n",
        "          a.decor_type=\"int\"\n",
        "\n",
        "\n",
        "    def visit_sub(self, a):\n",
        "        a.left.accept(self)\n",
        "        a.right.accept(self)\n",
        "        if a.left.decor_type==\"int\" and a.right.decor_type==\"int\":\n",
        "          a.decor_type=\"int\"\n",
        "\n",
        "    def visit_mul(self, a):\n",
        "        a.left.accept(self)\n",
        "        a.right.accept(self)\n",
        "        if a.left.decor_type==\"int\" and a.right.decor_type==\"int\":\n",
        "          a.decor_type=\"int\"\n",
        "\n",
        "    def visit_div(self, a):\n",
        "        a.left.accept(self)\n",
        "        a.right.accept(self)\n",
        "        if a.left.decor_type==\"int\" and a.right.decor_type==\"int\":\n",
        "          a.decor_type=\"int\""
      ],
      "metadata": {
        "id": "F1DCrbdBGgyc"
      },
      "execution_count": 80,
      "outputs": []
    },
    {
      "cell_type": "code",
      "source": [
        "arvore.accept(Decorator())"
      ],
      "metadata": {
        "id": "-35fW64bHCgN"
      },
      "execution_count": 81,
      "outputs": []
    },
    {
      "cell_type": "code",
      "source": [],
      "metadata": {
        "id": "XJhhR_0eHEdR"
      },
      "execution_count": null,
      "outputs": []
    }
  ]
}